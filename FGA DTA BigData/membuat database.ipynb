{
 "cells": [
  {
   "cell_type": "code",
   "execution_count": 3,
   "metadata": {},
   "outputs": [
    {
     "name": "stdout",
     "output_type": "stream",
     "text": [
      "Berhasil Terkoneksi\n"
     ]
    }
   ],
   "source": [
    "import mysql.connector\n",
    "\n",
    "mydb = mysql.connector.connect(\n",
    "    host = \"localhost\",\n",
    "    user = \"root\",\n",
    "    password = \"\"\n",
    ")\n",
    "if mydb.is_connected():\n",
    "    print(\"Berhasil Terkoneksi\")"
   ]
  },
  {
   "cell_type": "code",
   "execution_count": 5,
   "metadata": {},
   "outputs": [
    {
     "name": "stdout",
     "output_type": "stream",
     "text": [
      "Table quote telah berhasil dibuat\n"
     ]
    }
   ],
   "source": [
    "mydb = mysql.connector.connect(\n",
    "    host = \"localhost\",\n",
    "    user = \"root\",\n",
    "    password = \"\",\n",
    "    database = \"latihan\"\n",
    ")\n",
    "\n",
    "cursor = mydb.cursor()\n",
    "\n",
    "query = '''\n",
    "CREATE TABLE quotes\n",
    "(\n",
    "    id INT AUTO_INCREMENT,\n",
    "    quote text,\n",
    "    author VARCHAR(100),\n",
    "    tags VARCHAR(100),\n",
    "    PRIMARY KEY (id)\n",
    ")\n",
    "'''\n",
    "\n",
    "cursor.execute(query)\n",
    "print('Table quote telah berhasil dibuat')\n"
   ]
  },
  {
   "cell_type": "code",
   "execution_count": 6,
   "metadata": {},
   "outputs": [
    {
     "name": "stdout",
     "output_type": "stream",
     "text": [
      "data telah berhasil ditambahkan\n",
      "data telah berhasil ditambahkan\n",
      "data telah berhasil ditambahkan\n",
      "data telah berhasil ditambahkan\n",
      "data telah berhasil ditambahkan\n",
      "data telah berhasil ditambahkan\n",
      "data telah berhasil ditambahkan\n",
      "data telah berhasil ditambahkan\n",
      "data telah berhasil ditambahkan\n",
      "data telah berhasil ditambahkan\n"
     ]
    }
   ],
   "source": [
    "from bs4 import BeautifulSoup\n",
    "import requests\n",
    "import mysql.connector\n",
    "\n",
    "mydb = mysql.connector.connect(\n",
    "    host = \"localhost\",\n",
    "    user = \"root\",\n",
    "    password = \"\",\n",
    "    database = \"latihan\"\n",
    ")\n",
    "cursor = mydb.cursor()\n",
    "\n",
    "page = requests.get(\"http://quotes.toscrape.com/\")\n",
    "soup = BeautifulSoup(page.content, 'html.parser')\n",
    "\n",
    "data_quotes = soup.find_all('div', class_='quote')\n",
    "\n",
    "for i in data_quotes:\n",
    "    quote = i.find('span', class_ = 'text').text\n",
    "    author = i.find('small', class_ = 'author').text\n",
    "    tags = [tag.text for tag in i.find('div', class_ = 'tags').find_all('a', class_ = 'tag')]\n",
    "    \n",
    "    \n",
    "    value= (str(quote), str(author), str(tags))\n",
    "\n",
    "    query = \"INSERT INTO quotes (quote,author,tags) VALUES(%s,%s,%s)\"\n",
    "\n",
    "\n",
    "    cursor.execute(query,value)\n",
    "    mydb.commit()\n",
    "\n",
    "    print('data telah berhasil ditambahkan')"
   ]
  },
  {
   "cell_type": "code",
   "execution_count": null,
   "metadata": {},
   "outputs": [],
   "source": []
  }
 ],
 "metadata": {
  "kernelspec": {
   "display_name": "Python 3",
   "language": "python",
   "name": "python3"
  },
  "language_info": {
   "codemirror_mode": {
    "name": "ipython",
    "version": 3
   },
   "file_extension": ".py",
   "mimetype": "text/x-python",
   "name": "python",
   "nbconvert_exporter": "python",
   "pygments_lexer": "ipython3",
   "version": "3.11.4"
  },
  "orig_nbformat": 4
 },
 "nbformat": 4,
 "nbformat_minor": 2
}
