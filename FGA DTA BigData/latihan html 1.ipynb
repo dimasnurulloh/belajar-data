{
 "cells": [
  {
   "cell_type": "code",
   "execution_count": 4,
   "metadata": {},
   "outputs": [],
   "source": [
    "dokumen = '''\n",
    "<html>\n",
    "<head>\n",
    "    <title>Tutorial BeautifulSoup</title>\n",
    "</head>\n",
    "\n",
    "<body>\n",
    "    <p class=\"judul\">Judul Dokumen</p>\n",
    "\n",
    "    <p class=\"paragraf\">Ini adalah contoh paragraf</p>\n",
    "\n",
    "    <a href=\"https://ngodingdata.com\" class=\"url\">Ngodingdata</a>\n",
    "</body>\n",
    "\n",
    "</html>\n",
    "'''"
   ]
  },
  {
   "cell_type": "code",
   "execution_count": 7,
   "metadata": {},
   "outputs": [
    {
     "name": "stdout",
     "output_type": "stream",
     "text": [
      "\n",
      "<html>\n",
      "<head>\n",
      "<title>Tutorial BeautifulSoup</title>\n",
      "</head>\n",
      "<body>\n",
      "<p class=\"judul\">Judul Dokumen</p>\n",
      "<p class=\"paragraf\">Ini adalah contoh paragraf</p>\n",
      "<a class=\"url\" href=\"https://ngodingdata.com\">Ngodingdata</a>\n",
      "</body>\n",
      "</html>\n",
      "\n"
     ]
    }
   ],
   "source": [
    "from bs4 import BeautifulSoup\n",
    "\n",
    "html_soup = BeautifulSoup(dokumen, 'html.parser')\n",
    "print(html_soup)"
   ]
  },
  {
   "cell_type": "code",
   "execution_count": 16,
   "metadata": {},
   "outputs": [
    {
     "name": "stdout",
     "output_type": "stream",
     "text": [
      "<p class=\"judul\">Judul Dokumen</p>\n"
     ]
    }
   ],
   "source": [
    "# CLASS AKAN MENGAMBIL YANG PALING ATAS\n",
    "\n",
    "judul = html_soup.find('p')\n",
    "print(judul)"
   ]
  },
  {
   "cell_type": "code",
   "execution_count": 19,
   "metadata": {},
   "outputs": [
    {
     "name": "stdout",
     "output_type": "stream",
     "text": [
      "<p class=\"judul\">Judul Dokumen</p>\n",
      "<p class=\"paragraf\">Ini adalah contoh paragraf</p>\n"
     ]
    }
   ],
   "source": [
    "#BERI PARAMETER JIKA INGIN MENGAMBIL CLASS YANG LAIN!!!\n",
    "\n",
    "judul = html_soup.find('p', class_ =\"judul\")\n",
    "paragraf = html_soup.find('p',class_ ='paragraf')\n",
    "print(judul)\n",
    "print(paragraf)"
   ]
  },
  {
   "cell_type": "code",
   "execution_count": 21,
   "metadata": {},
   "outputs": [
    {
     "name": "stdout",
     "output_type": "stream",
     "text": [
      "Judul Dokumen\n"
     ]
    }
   ],
   "source": [
    "# MENGAMBIL KONTEN TANPA CODE HTML-NYA TAMBAHKAN .TEXT\n",
    "\n",
    "judul_saja = html_soup.find('p').text\n",
    "print(judul_saja)"
   ]
  },
  {
   "cell_type": "code",
   "execution_count": 29,
   "metadata": {},
   "outputs": [
    {
     "name": "stdout",
     "output_type": "stream",
     "text": [
      "[<p class=\"judul\">Judul Dokumen</p>, <p class=\"paragraf\">Ini adalah contoh paragraf</p>]\n"
     ]
    }
   ],
   "source": [
    "# MENGAMBIL SEMUA DENGAN TAG YANG SAMA\n",
    "\n",
    "semua = html_soup.find_all('p')\n",
    "print(semua) #berbentuk list bisa menggunakan syntax list dengan index"
   ]
  }
 ],
 "metadata": {
  "kernelspec": {
   "display_name": "Python 3",
   "language": "python",
   "name": "python3"
  },
  "language_info": {
   "codemirror_mode": {
    "name": "ipython",
    "version": 3
   },
   "file_extension": ".py",
   "mimetype": "text/x-python",
   "name": "python",
   "nbconvert_exporter": "python",
   "pygments_lexer": "ipython3",
   "version": "3.11.4"
  },
  "orig_nbformat": 4
 },
 "nbformat": 4,
 "nbformat_minor": 2
}
